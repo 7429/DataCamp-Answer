{
 "cells": [
  {
   "cell_type": "markdown",
   "metadata": {
    "toc": true
   },
   "source": [
    "<h1>Table of Contents<span class=\"tocSkip\"></span></h1>\n",
    "<div class=\"toc\"><ul class=\"toc-item\"><li><span><a href=\"#Visualizing-Geospatial-Data-in-Python\" data-toc-modified-id=\"Visualizing-Geospatial-Data-in-Python-1\"><span class=\"toc-item-num\">1&nbsp;&nbsp;</span>Visualizing Geospatial Data in Python</a></span><ul class=\"toc-item\"><li><span><a href=\"#Plotting-a-scatterplot-from-longitude-and-latitude\" data-toc-modified-id=\"Plotting-a-scatterplot-from-longitude-and-latitude-1.1\"><span class=\"toc-item-num\">1.1&nbsp;&nbsp;</span>Plotting a scatterplot from longitude and latitude</a></span></li><li><span><a href=\"#Styling-a-scatterplot\" data-toc-modified-id=\"Styling-a-scatterplot-1.2\"><span class=\"toc-item-num\">1.2&nbsp;&nbsp;</span>Styling a scatterplot</a></span></li><li><span><a href=\"#Styling-a-scatterplot\" data-toc-modified-id=\"Styling-a-scatterplot-1.3\"><span class=\"toc-item-num\">1.3&nbsp;&nbsp;</span>Styling a scatterplot</a></span></li><li><span><a href=\"#Extracting-longitude-and-latitude\" data-toc-modified-id=\"Extracting-longitude-and-latitude-1.4\"><span class=\"toc-item-num\">1.4&nbsp;&nbsp;</span>Extracting longitude and latitude</a></span></li><li><span><a href=\"#Plotting-chicken-locations\" data-toc-modified-id=\"Plotting-chicken-locations-1.5\"><span class=\"toc-item-num\">1.5&nbsp;&nbsp;</span>Plotting chicken locations</a></span></li><li><span><a href=\"#Creating-a-GeoDataFrame-&amp;-examining-the-geometry\" data-toc-modified-id=\"Creating-a-GeoDataFrame-&amp;-examining-the-geometry-1.6\"><span class=\"toc-item-num\">1.6&nbsp;&nbsp;</span>Creating a GeoDataFrame &amp; examining the geometry</a></span></li><li><span><a href=\"#Plotting-shapefile-polygons\" data-toc-modified-id=\"Plotting-shapefile-polygons-1.7\"><span class=\"toc-item-num\">1.7&nbsp;&nbsp;</span>Plotting shapefile polygons</a></span></li><li><span><a href=\"#Geometry\" data-toc-modified-id=\"Geometry-1.8\"><span class=\"toc-item-num\">1.8&nbsp;&nbsp;</span>Geometry</a></span></li><li><span><a href=\"#Plotting-points-over-polygons---part-1\" data-toc-modified-id=\"Plotting-points-over-polygons---part-1-1.9\"><span class=\"toc-item-num\">1.9&nbsp;&nbsp;</span>Plotting points over polygons - part 1</a></span></li><li><span><a href=\"#Plotting-points-over-polygons---part-2\" data-toc-modified-id=\"Plotting-points-over-polygons---part-2-1.10\"><span class=\"toc-item-num\">1.10&nbsp;&nbsp;</span>Plotting points over polygons - part 2</a></span></li></ul></li><li><span><a href=\"#Creating-and-joining-GeoDataFrames\" data-toc-modified-id=\"Creating-and-joining-GeoDataFrames-2\"><span class=\"toc-item-num\">2&nbsp;&nbsp;</span>Creating and joining GeoDataFrames</a></span><ul class=\"toc-item\"><li><span><a href=\"#Working-with-GeoJSON\" data-toc-modified-id=\"Working-with-GeoJSON-2.1\"><span class=\"toc-item-num\">2.1&nbsp;&nbsp;</span>Working with GeoJSON</a></span></li><li><span><a href=\"#Colormaps\" data-toc-modified-id=\"Colormaps-2.2\"><span class=\"toc-item-num\">2.2&nbsp;&nbsp;</span>Colormaps</a></span></li><li><span><a href=\"#Map-Nashville-neighborhoods\" data-toc-modified-id=\"Map-Nashville-neighborhoods-2.3\"><span class=\"toc-item-num\">2.3&nbsp;&nbsp;</span>Map Nashville neighborhoods</a></span></li><li><span><a href=\"#Changing-coordinate-reference-systems\" data-toc-modified-id=\"Changing-coordinate-reference-systems-2.4\"><span class=\"toc-item-num\">2.4&nbsp;&nbsp;</span>Changing coordinate reference systems</a></span></li><li><span><a href=\"#Construct-a-GeoDataFrame-from-a-DataFrame\" data-toc-modified-id=\"Construct-a-GeoDataFrame-from-a-DataFrame-2.5\"><span class=\"toc-item-num\">2.5&nbsp;&nbsp;</span>Construct a GeoDataFrame from a DataFrame</a></span></li><li><span><a href=\"#Spatial-join-practice\" data-toc-modified-id=\"Spatial-join-practice-2.6\"><span class=\"toc-item-num\">2.6&nbsp;&nbsp;</span>Spatial join practice</a></span></li><li><span><a href=\"#Finding-the-neighborhood-with-the-most-public-art\" data-toc-modified-id=\"Finding-the-neighborhood-with-the-most-public-art-2.7\"><span class=\"toc-item-num\">2.7&nbsp;&nbsp;</span>Finding the neighborhood with the most public art</a></span></li><li><span><a href=\"#Aggregating-points-within-polygons\" data-toc-modified-id=\"Aggregating-points-within-polygons-2.8\"><span class=\"toc-item-num\">2.8&nbsp;&nbsp;</span>Aggregating points within polygons</a></span></li><li><span><a href=\"#Plotting-the-Urban-Residents-neighborhood-and-art\" data-toc-modified-id=\"Plotting-the-Urban-Residents-neighborhood-and-art-2.9\"><span class=\"toc-item-num\">2.9&nbsp;&nbsp;</span>Plotting the Urban Residents neighborhood and art</a></span></li></ul></li><li><span><a href=\"#GeoSeries-and-folium\" data-toc-modified-id=\"GeoSeries-and-folium-3\"><span class=\"toc-item-num\">3&nbsp;&nbsp;</span>GeoSeries and folium</a></span><ul class=\"toc-item\"><li><span><a href=\"#Find-the-area-of-the-Urban-Residents-neighborhood\" data-toc-modified-id=\"Find-the-area-of-the-Urban-Residents-neighborhood-3.1\"><span class=\"toc-item-num\">3.1&nbsp;&nbsp;</span>Find the area of the Urban Residents neighborhood</a></span></li><li><span><a href=\"#The-center-of-the-Urban-Residents-neighborhood\" data-toc-modified-id=\"The-center-of-the-Urban-Residents-neighborhood-3.2\"><span class=\"toc-item-num\">3.2&nbsp;&nbsp;</span>The center of the Urban Residents neighborhood</a></span></li><li><span><a href=\"#Prepare-to-calculate-distances\" data-toc-modified-id=\"Prepare-to-calculate-distances-3.3\"><span class=\"toc-item-num\">3.3&nbsp;&nbsp;</span>Prepare to calculate distances</a></span></li><li><span><a href=\"#Art-distances-from-neighborhood-center\" data-toc-modified-id=\"Art-distances-from-neighborhood-center-3.4\"><span class=\"toc-item-num\">3.4&nbsp;&nbsp;</span>Art distances from neighborhood center</a></span></li><li><span><a href=\"#Create-a-folium-location-from-the-urban-centroid\" data-toc-modified-id=\"Create-a-folium-location-from-the-urban-centroid-3.5\"><span class=\"toc-item-num\">3.5&nbsp;&nbsp;</span>Create a folium location from the urban centroid</a></span></li><li><span><a href=\"#Create-a-folium-map-of-downtown-Nashville\" data-toc-modified-id=\"Create-a-folium-map-of-downtown-Nashville-3.6\"><span class=\"toc-item-num\">3.6&nbsp;&nbsp;</span>Create a folium map of downtown Nashville</a></span></li><li><span><a href=\"#Folium-street-map-of-the-downtown-neighborhood\" data-toc-modified-id=\"Folium-street-map-of-the-downtown-neighborhood-3.7\"><span class=\"toc-item-num\">3.7&nbsp;&nbsp;</span>Folium street map of the downtown neighborhood</a></span></li><li><span><a href=\"#Adding-markers-for-the-public-art\" data-toc-modified-id=\"Adding-markers-for-the-public-art-3.8\"><span class=\"toc-item-num\">3.8&nbsp;&nbsp;</span>Adding markers for the public art</a></span></li><li><span><a href=\"#Troubleshooting-data-issues\" data-toc-modified-id=\"Troubleshooting-data-issues-3.9\"><span class=\"toc-item-num\">3.9&nbsp;&nbsp;</span>Troubleshooting data issues</a></span></li><li><span><a href=\"#A-map-of-downtown-art\" data-toc-modified-id=\"A-map-of-downtown-art-3.10\"><span class=\"toc-item-num\">3.10&nbsp;&nbsp;</span>A map of downtown art</a></span></li></ul></li><li><span><a href=\"#Creating-a-choropleth-building-permit-density-in-Nashville\" data-toc-modified-id=\"Creating-a-choropleth-building-permit-density-in-Nashville-4\"><span class=\"toc-item-num\">4&nbsp;&nbsp;</span>Creating a choropleth building permit density in Nashville</a></span><ul class=\"toc-item\"><li><span><a href=\"#Finding-counts-from-a-spatial-join\" data-toc-modified-id=\"Finding-counts-from-a-spatial-join-4.1\"><span class=\"toc-item-num\">4.1&nbsp;&nbsp;</span>Finding counts from a spatial join</a></span></li><li><span><a href=\"#Council-district-areas-and-permit-counts\" data-toc-modified-id=\"Council-district-areas-and-permit-counts-4.2\"><span class=\"toc-item-num\">4.2&nbsp;&nbsp;</span>Council district areas and permit counts</a></span></li><li><span><a href=\"#Calculating-a-normalized-metric\" data-toc-modified-id=\"Calculating-a-normalized-metric-4.3\"><span class=\"toc-item-num\">4.3&nbsp;&nbsp;</span>Calculating a normalized metric</a></span></li><li><span><a href=\"#Geopandas-choropleths\" data-toc-modified-id=\"Geopandas-choropleths-4.4\"><span class=\"toc-item-num\">4.4&nbsp;&nbsp;</span>Geopandas choropleths</a></span></li><li><span><a href=\"#Area-in-km-squared,-geometry-in-decimal-degrees\" data-toc-modified-id=\"Area-in-km-squared,-geometry-in-decimal-degrees-4.5\"><span class=\"toc-item-num\">4.5&nbsp;&nbsp;</span>Area in km squared, geometry in decimal degrees</a></span></li><li><span><a href=\"#Spatially-joining-and-getting-counts\" data-toc-modified-id=\"Spatially-joining-and-getting-counts-4.6\"><span class=\"toc-item-num\">4.6&nbsp;&nbsp;</span>Spatially joining and getting counts</a></span></li><li><span><a href=\"#Building-a-polished-Geopandas-choropleth\" data-toc-modified-id=\"Building-a-polished-Geopandas-choropleth-4.7\"><span class=\"toc-item-num\">4.7&nbsp;&nbsp;</span>Building a polished Geopandas choropleth</a></span></li><li><span><a href=\"#Folium-choropleth\" data-toc-modified-id=\"Folium-choropleth-4.8\"><span class=\"toc-item-num\">4.8&nbsp;&nbsp;</span>Folium choropleth</a></span></li><li><span><a href=\"#Folium-choropleth-with-markers-and-popups\" data-toc-modified-id=\"Folium-choropleth-with-markers-and-popups-4.9\"><span class=\"toc-item-num\">4.9&nbsp;&nbsp;</span>Folium choropleth with markers and popups</a></span></li></ul></li></ul></div>"
   ]
  },
  {
   "cell_type": "markdown",
   "metadata": {},
   "source": [
    "# Visualizing Geospatial Data in Python"
   ]
  },
  {
   "cell_type": "markdown",
   "metadata": {},
   "source": [
    "## Plotting a scatterplot from longitude and latitude"
   ]
  },
  {
   "cell_type": "code",
   "execution_count": null,
   "metadata": {},
   "outputs": [],
   "source": [
    "\n",
    "Longitude is plotted as x on the horizontal axis.\n",
    "press\n"
   ]
  },
  {
   "cell_type": "markdown",
   "metadata": {},
   "source": [
    "## Styling a scatterplot"
   ]
  },
  {
   "cell_type": "code",
   "execution_count": null,
   "metadata": {},
   "outputs": [],
   "source": [
    "# Import matplotlib.pyplot\n",
    "import matplotlib.pyplot as plt\n",
    "\n",
    "# Scatterplot 1 - father heights vs son heights with darkred square markers\n",
    "plt.scatter(father_son.fheight, father_son.sheight, c = 'darkred', marker = 's')\n",
    "\n",
    "# Show your plot\n",
    "plt.show()"
   ]
  },
  {
   "cell_type": "markdown",
   "metadata": {},
   "source": [
    "## Styling a scatterplot"
   ]
  },
  {
   "cell_type": "code",
   "execution_count": null,
   "metadata": {},
   "outputs": [],
   "source": [
    "# Import matplotlib.pyplot\n",
    "import matplotlib.pyplot as plt\n",
    "\n",
    "# Scatterplot 2 - yellow markers with darkblue borders\n",
    "plt.scatter(father_son.fheight, father_son.sheight, c = 'yellow', edgecolor = 'darkblue')\n",
    "\n",
    "# Show the plot\n",
    "plt.show()"
   ]
  },
  {
   "cell_type": "code",
   "execution_count": null,
   "metadata": {},
   "outputs": [],
   "source": [
    "# Import matplotlib.pyplot\n",
    "import matplotlib.pyplot as plt\n",
    "\n",
    "# Scatterplot 3\n",
    "plt.scatter(father_son.fheight, father_son.sheight,  c = 'yellow', edgecolor = 'darkblue')\n",
    "plt.grid()\n",
    "plt.xlabel('father height (inches)')\n",
    "plt.ylabel('son height (inches)')\n",
    "plt.title('Son Height as a Function of Father Height')\n",
    "\n",
    "# Show your plot\n",
    "plt.show()"
   ]
  },
  {
   "cell_type": "markdown",
   "metadata": {},
   "source": [
    "## Extracting longitude and latitude"
   ]
  },
  {
   "cell_type": "code",
   "execution_count": null,
   "metadata": {},
   "outputs": [],
   "source": [
    "# print the first few rows of df \n",
    "print(df.head())\n",
    "\n",
    "# extract latitude to a new column: lat\n",
    "df['lat'] = [loc[0] for loc in df.Location]\n",
    "\n",
    "# extract longitude to a new column: lng\n",
    "df['lng'] = [loc[1] for loc in df.Location]\n",
    "\n",
    "# print the first few rows of df again\n",
    "print(df.head())"
   ]
  },
  {
   "cell_type": "markdown",
   "metadata": {},
   "source": [
    "## Plotting chicken locations"
   ]
  },
  {
   "cell_type": "code",
   "execution_count": null,
   "metadata": {},
   "outputs": [],
   "source": [
    "# Import pandas and matplotlib.pyplot using their customary aliases\n",
    "import pandas as pd\n",
    "import matplotlib.pyplot as plt\n",
    "\n",
    "# Load the dataset\n",
    "chickens = pd.read_csv(chickens_path)\n",
    "\n",
    "# Look at the first few rows of the chickens data\n",
    "print(chickens.head())\n",
    "\n",
    "# Plot the locations of all Nashville chicken permits\n",
    "plt.scatter(x = chickens.lng, y = chickens.lat)\n",
    "\n",
    "# Show the plot\n",
    "plt.show()"
   ]
  },
  {
   "cell_type": "markdown",
   "metadata": {},
   "source": [
    "## Creating a GeoDataFrame & examining the geometry"
   ]
  },
  {
   "cell_type": "code",
   "execution_count": null,
   "metadata": {},
   "outputs": [],
   "source": [
    "# Import geopandas\n",
    "import geopandas as gpd \n",
    "\n",
    "# Read in the services district shapefile and look at the first few rows.\n",
    "service_district = gpd.read_file(shapefile_path)\n",
    "print(service_district.head())\n",
    "\n",
    "# Print the contents of the service districts geometry in the first row\n",
    "print(service_district.loc[0, 'geometry'])"
   ]
  },
  {
   "cell_type": "markdown",
   "metadata": {},
   "source": [
    "## Plotting shapefile polygons"
   ]
  },
  {
   "cell_type": "code",
   "execution_count": null,
   "metadata": {},
   "outputs": [],
   "source": [
    "# Import packages\n",
    "import geopandas as gpd\n",
    "import matplotlib.pyplot as plt\n",
    "\n",
    "# Plot the Service Districts without any additional arguments\n",
    "service_district.plot()\n",
    "plt.show()\n",
    "\n",
    "# Plot the Service Districts, color them according to name, and show a legend\n",
    "service_district.plot(column = 'name', legend = True)\n",
    "plt.show()"
   ]
  },
  {
   "cell_type": "markdown",
   "metadata": {},
   "source": [
    "## Geometry"
   ]
  },
  {
   "cell_type": "code",
   "execution_count": null,
   "metadata": {},
   "outputs": [],
   "source": [
    "lines, points, and polygons\n",
    "press\n"
   ]
  },
  {
   "cell_type": "markdown",
   "metadata": {},
   "source": [
    "## Plotting points over polygons - part 1"
   ]
  },
  {
   "cell_type": "code",
   "execution_count": null,
   "metadata": {},
   "outputs": [],
   "source": [
    "# Plot the service district shapefile\n",
    "service_district.plot(column='name')\n",
    "\n",
    "# Add the chicken locations\n",
    "plt.scatter(x=chickens.lng, y=chickens.lat, c = 'black')\n",
    "\n",
    "# Show the plot\n",
    "plt.show()"
   ]
  },
  {
   "cell_type": "markdown",
   "metadata": {},
   "source": [
    "## Plotting points over polygons - part 2"
   ]
  },
  {
   "cell_type": "code",
   "execution_count": null,
   "metadata": {},
   "outputs": [],
   "source": [
    "# Plot the service district shapefile\n",
    "service_district.plot(column='name', legend=True)\n",
    "\n",
    "# Add the chicken locations\n",
    "plt.scatter(x=chickens.lng, y=chickens.lat, c='black', edgecolor = 'white')\n",
    "\n",
    "# Add labels and title\n",
    "plt.title('Nashville Chicken Permits')\n",
    "plt.xlabel('longitude')\n",
    "plt.ylabel('latitude')\n",
    "\n",
    "# Add grid lines and show the plot\n",
    "plt.grid()\n",
    "plt.show()"
   ]
  },
  {
   "cell_type": "markdown",
   "metadata": {},
   "source": [
    "# Creating and joining GeoDataFrames"
   ]
  },
  {
   "cell_type": "markdown",
   "metadata": {},
   "source": [
    "## Working with GeoJSON"
   ]
  },
  {
   "cell_type": "code",
   "execution_count": null,
   "metadata": {},
   "outputs": [],
   "source": [
    "All of these are advantages.\n",
    "press\n"
   ]
  },
  {
   "cell_type": "markdown",
   "metadata": {},
   "source": [
    "## Colormaps"
   ]
  },
  {
   "cell_type": "code",
   "execution_count": null,
   "metadata": {},
   "outputs": [],
   "source": [
    "# Set legend style\n",
    "lgnd_kwds = {'title': 'School Districts',\n",
    "               'loc': 'upper left', 'bbox_to_anchor': (1, 1.03), 'ncol': 1}\n",
    "\n",
    "# Plot the school districts using the tab20 colormap (qualitative)\n",
    "school_districts.plot(column = 'district', cmap = 'tab20', legend = True, legend_kwds = lgnd_kwds)\n",
    "plt.xlabel('Latitude')\n",
    "plt.ylabel('Longitude')\n",
    "plt.title('Nashville School Districts')\n",
    "plt.show();"
   ]
  },
  {
   "cell_type": "code",
   "execution_count": null,
   "metadata": {},
   "outputs": [],
   "source": [
    "# Set legend style\n",
    "lgnd_kwds = {'title': 'School Districts',\n",
    "               'loc': 'upper left', 'bbox_to_anchor': (1, 1.03), 'ncol': 1}\n",
    "\n",
    "# Plot the school districts using the summer colormap (sequential)\n",
    "school_districts.plot(column = 'district', cmap = 'summer', legend = True, legend_kwds = lgnd_kwds)\n",
    "plt.xlabel('Latitude')\n",
    "plt.ylabel('Longitude')\n",
    "plt.title('Nashville School Districts')\n",
    "plt.show();"
   ]
  },
  {
   "cell_type": "code",
   "execution_count": null,
   "metadata": {},
   "outputs": [],
   "source": [
    "# Set legend style\n",
    "lgnd_kwds = {'title': 'School Districts',\n",
    "               'loc': 'upper left', 'bbox_to_anchor': (1, 1.03), 'ncol': 1}\n",
    "\n",
    "# Plot the school districts using Set3 colormap without the column argument\n",
    "school_districts.plot(cmap = 'Set3', legend = True, legend_kwds = lgnd_kwds)\n",
    "plt.xlabel('Latitude')\n",
    "plt.ylabel('Longitude')\n",
    "plt.title('Nashville School Districts')\n",
    "plt.show();"
   ]
  },
  {
   "cell_type": "markdown",
   "metadata": {},
   "source": [
    "## Map Nashville neighborhoods"
   ]
  },
  {
   "cell_type": "code",
   "execution_count": null,
   "metadata": {},
   "outputs": [],
   "source": [
    "import geopandas as gpd\n",
    "import matplotlib.pyplot as plt\n",
    "\n",
    "# Read in the neighborhoods geojson file\n",
    "neighborhoods = gpd.read_file(neighborhoods_path)\n",
    "\n",
    "# Print the first few rows of neighborhoods\n",
    "print(neighborhoods.head())\n",
    "\n",
    "# Plot the neighborhoods, color according to name and use the Dark2 colormap\n",
    "neighborhoods.plot(column = 'name', cmap = 'Dark2')\n",
    "\n",
    "# Show the plot.\n",
    "plt.show()"
   ]
  },
  {
   "cell_type": "markdown",
   "metadata": {},
   "source": [
    "## Changing coordinate reference systems"
   ]
  },
  {
   "cell_type": "code",
   "execution_count": null,
   "metadata": {},
   "outputs": [],
   "source": [
    "# Print the first row of school districts GeoDataFrame and the crs\n",
    "print(school_districts.head(1))\n",
    "print(school_districts.crs)\n",
    "\n",
    "# Convert the crs to epsg:3857\n",
    "school_districts.geometry = school_districts.geometry.to_crs(epsg = 3857)\n",
    "                        \n",
    "# Print the first row of school districts GeoDataFrame and the crs again\n",
    "print(school_districts.head(1))\n",
    "print(school_districts.crs)"
   ]
  },
  {
   "cell_type": "markdown",
   "metadata": {},
   "source": [
    "## Construct a GeoDataFrame from a DataFrame"
   ]
  },
  {
   "cell_type": "code",
   "execution_count": null,
   "metadata": {},
   "outputs": [],
   "source": [
    "import pandas as pd\n",
    "import geopandas as gpd\n",
    "from shapely.geometry import Point\n",
    "import matplotlib.pyplot as plt\n",
    "\n",
    "# Print the first few rows of the art DataFrame\n",
    "print(art.head())\n",
    "\n",
    "# Create a geometry column from lng & lat\n",
    "art['geometry'] = art.apply(lambda x: Point(float(x.lng), float(x.lat)), axis=1)\n",
    "\n",
    "# Create a GeoDataFrame from art and verify the type\n",
    "art_geo = gpd.GeoDataFrame(art, crs = neighborhoods.crs, geometry = art.geometry)\n",
    "print(type(art_geo))"
   ]
  },
  {
   "cell_type": "markdown",
   "metadata": {},
   "source": [
    "## Spatial join practice"
   ]
  },
  {
   "cell_type": "code",
   "execution_count": null,
   "metadata": {},
   "outputs": [],
   "source": [
    "# Spatially join art_geo and neighborhoods\n",
    "art_intersect_neighborhoods = gpd.sjoin(art_geo, neighborhoods, op = 'intersects')\n",
    "\n",
    "# Print the shape property of art_intersect_neighborhoods\n",
    "print(art_intersect_neighborhoods.shape)"
   ]
  },
  {
   "cell_type": "code",
   "execution_count": null,
   "metadata": {},
   "outputs": [],
   "source": [
    "# Create art_within_neighborhoods by spatially joining art_geo and neighborhoods \n",
    "art_within_neighborhoods = gpd.sjoin(art_geo, neighborhoods, op = 'within')\n",
    "\n",
    "# Print the shape property of art_within_neighborhoods\n",
    "print(art_within_neighborhoods.shape)"
   ]
  },
  {
   "cell_type": "code",
   "execution_count": null,
   "metadata": {},
   "outputs": [],
   "source": [
    "# Spatially join art_geo and neighborhoods and using the contains op\n",
    "\n",
    "art_containing_neighborhoods = gpd.sjoin(art_geo, neighborhoods, op = 'contains')\n",
    "\n",
    "# Print the shape property of art_containing_neighborhoods\n",
    "print(art_containing_neighborhoods.shape)"
   ]
  },
  {
   "cell_type": "markdown",
   "metadata": {},
   "source": [
    "## Finding the neighborhood with the most public art"
   ]
  },
  {
   "cell_type": "code",
   "execution_count": null,
   "metadata": {},
   "outputs": [],
   "source": [
    "# import packages\n",
    "import geopandas as gpd\n",
    "import pandas as pd\n",
    "\n",
    "# Spatially join neighborhoods with art_geo\n",
    "neighborhood_art = gpd.sjoin(art_geo, neighborhoods, op = 'within')\n",
    "\n",
    "# Print the first few rows\n",
    "print(neighborhood_art.head())"
   ]
  },
  {
   "cell_type": "markdown",
   "metadata": {},
   "source": [
    "## Aggregating points within polygons"
   ]
  },
  {
   "cell_type": "code",
   "execution_count": null,
   "metadata": {},
   "outputs": [],
   "source": [
    "# Get name and title from neighborhood_art and group by name\n",
    "neighborhood_art_grouped = neighborhood_art[['name', 'title']].groupby('name')\n",
    "\n",
    "# Aggregate the grouped data and count the artworks within each polygon\n",
    "print(neighborhood_art_grouped.agg('count').sort_values(by = 'title', ascending = False))"
   ]
  },
  {
   "cell_type": "markdown",
   "metadata": {},
   "source": [
    "## Plotting the Urban Residents neighborhood and art"
   ]
  },
  {
   "cell_type": "code",
   "execution_count": null,
   "metadata": {},
   "outputs": [],
   "source": [
    "# Create urban_art from neighborhood_art where the neighborhood name is Urban Residents\n",
    "urban_art = neighborhood_art.loc[neighborhood_art.name == \"Urban Residents\"]\n",
    "\n",
    "# Get just the Urban Residents neighborhood polygon and save it as urban_polygon\n",
    "urban_polygon = neighborhoods.loc[neighborhoods.name == \"Urban Residents\"]\n",
    "\n",
    "# Plot the urban_polygon as ax  \n",
    "ax = urban_polygon.plot(color = 'lightgreen')\n",
    "\n",
    "# Add a plot of the urban_art and show it\n",
    "urban_art.plot( ax = ax, column = 'type', legend = True);\n",
    "plt.show()"
   ]
  },
  {
   "cell_type": "markdown",
   "metadata": {},
   "source": [
    "# GeoSeries and folium"
   ]
  },
  {
   "cell_type": "markdown",
   "metadata": {},
   "source": [
    "## Find the area of the Urban Residents neighborhood"
   ]
  },
  {
   "cell_type": "code",
   "execution_count": null,
   "metadata": {},
   "outputs": [],
   "source": [
    "# Print the head of the urban polygon \n",
    "print(urban_polygon.head())\n",
    "\n",
    "# Create a copy of the urban_polygon using EPSG:3857 and print the head\n",
    "urban_poly_3857 = urban_polygon.to_crs(epsg = 3857)\n",
    "print(urban_poly_3857.head())\n",
    "\n",
    "# Print the area of urban_poly_3857 in kilometers squared\n",
    "area = urban_poly_3857.geometry.area / 10**6\n",
    "print('The area of the Urban Residents neighborhood is ', area[0],' km squared')"
   ]
  },
  {
   "cell_type": "markdown",
   "metadata": {},
   "source": [
    "## The center of the Urban Residents neighborhood"
   ]
  },
  {
   "cell_type": "code",
   "execution_count": null,
   "metadata": {},
   "outputs": [],
   "source": [
    "# Create downtown_center from urban_poly_3857\n",
    "downtown_center = urban_poly_3857.geometry.centroid\n",
    "\n",
    "# Print the type of downtown_center \n",
    "print(type(downtown_center))\n",
    "\n",
    "# Plot the urban_poly_3857 as ax and add the center point\n",
    "ax = urban_poly_3857.plot(color = 'lightgreen')\n",
    "downtown_center.plot(ax = ax, color = 'black')\n",
    "plt.xticks(rotation = 45)\n",
    "\n",
    "# Show the plot\n",
    "plt.show()"
   ]
  },
  {
   "cell_type": "markdown",
   "metadata": {},
   "source": [
    "## Prepare to calculate distances"
   ]
  },
  {
   "cell_type": "code",
   "execution_count": null,
   "metadata": {},
   "outputs": [],
   "source": [
    "# Import packages\n",
    "from shapely.geometry import Point\n",
    "import geopandas as gpd\n",
    "import pandas as pd\n",
    "\n",
    "# Create art_dist_meters using art and the geometry from art\n",
    "art_dist_meters = gpd.GeoDataFrame(art, geometry = art.geometry, crs = {'init': 'epsg:4326'})\n",
    "print(art_dist_meters.head(2))\n",
    "\n",
    "# Set the crs of art_dist_meters to use EPSG:3857\n",
    "art_dist_meters.geometry = art_dist_meters.geometry.to_crs(epsg = 3857)\n",
    "print(art_dist_meters.head(2))\n",
    "\n",
    "# Add a column to art_meters, center\n",
    "art_dist_meters['center'] = center_point"
   ]
  },
  {
   "cell_type": "markdown",
   "metadata": {},
   "source": [
    "## Art distances from neighborhood center"
   ]
  },
  {
   "cell_type": "code",
   "execution_count": null,
   "metadata": {},
   "outputs": [],
   "source": [
    "# Import package for pretty printing\n",
    "import pprint\n",
    "\n",
    "# Build a dictionary of titles and distances for Urban Residents art\n",
    "art_distances = {}\n",
    "for row in art_dist_meters.iterrows():\n",
    "    vals = row[1]\n",
    "    key = vals['title']\n",
    "    ctr = vals['center']\n",
    "    art_distances[key] = vals['geometry'].distance(ctr)\n",
    "\n",
    "# Print the art_distances\n",
    "pprint.pprint(art_distances)"
   ]
  },
  {
   "cell_type": "markdown",
   "metadata": {},
   "source": [
    "## Create a folium location from the urban centroid"
   ]
  },
  {
   "cell_type": "code",
   "execution_count": null,
   "metadata": {},
   "outputs": [],
   "source": [
    "# Print the head of the urban_polygon\n",
    "print(urban_polygon.head())\n",
    "\n",
    "# Create urban_center from the urban_polygon center\n",
    "urban_center = urban_polygon.center[0]\n",
    "\n",
    "# Print urban_center\n",
    "print(urban_center)\n",
    "\n",
    "# Create array for folium called urban_location\n",
    "urban_location = [urban_center.y, urban_center.x]\n",
    "\n",
    "# Print urban_location\n",
    "print(urban_location)"
   ]
  },
  {
   "cell_type": "markdown",
   "metadata": {},
   "source": [
    "## Create a folium map of downtown Nashville"
   ]
  },
  {
   "cell_type": "code",
   "execution_count": null,
   "metadata": {},
   "outputs": [],
   "source": [
    "# Construct a folium map with urban_location\n",
    "downtown_map = folium.Map(location = urban_location, zoom_start = 15)\n",
    "\n",
    "# Display the map\n",
    "display(downtown_map)"
   ]
  },
  {
   "cell_type": "markdown",
   "metadata": {},
   "source": [
    "## Folium street map of the downtown neighborhood"
   ]
  },
  {
   "cell_type": "code",
   "execution_count": null,
   "metadata": {},
   "outputs": [],
   "source": [
    "# Create array for called folium_loc from the urban_polygon center point\n",
    "point = urban_polygon.center[0]\n",
    "folium_loc = [point.y, point.x]\n",
    "\n",
    "# Construct a map from folium_loc: downtown_map\n",
    "downtown_map = folium.Map(location = folium_loc, zoom_start = 15)\n",
    "\n",
    "# Draw our neighborhood: Urban Residents\n",
    "folium.GeoJson(urban_polygon.geometry).add_to(downtown_map)\n",
    "\n",
    "# Display the map\n",
    "display(downtown_map)"
   ]
  },
  {
   "cell_type": "markdown",
   "metadata": {},
   "source": [
    "## Adding markers for the public art"
   ]
  },
  {
   "cell_type": "code",
   "execution_count": null,
   "metadata": {},
   "outputs": [],
   "source": [
    "# Iterate through the urban_art and print each part of tuple returned\n",
    "for row in urban_art.iterrows():\n",
    "  print('first part: ', row[0])\n",
    "  print('second part: ', row[1])\n",
    "\n",
    "# Create a location and marker with each iteration for the downtown_map\n",
    "for row in urban_art.iterrows():\n",
    "    row_values = row[1] \n",
    "    location = [row_values['lat'], row_values['lng']]\n",
    "    marker = folium.Marker(location = location)\n",
    "    marker.add_to(downtown_map)\n",
    "\n",
    "# Display the map\n",
    "display(downtown_map)"
   ]
  },
  {
   "cell_type": "markdown",
   "metadata": {},
   "source": [
    "## Troubleshooting data issues"
   ]
  },
  {
   "cell_type": "code",
   "execution_count": null,
   "metadata": {},
   "outputs": [],
   "source": [
    "# Print the urban_art titles\n",
    "print(urban_art.title)\n",
    "\n",
    "#Print the urban_art descriptions\n",
    "print(urban_art.desc)\n",
    "\n",
    "# Replace Nan and ' values in description\n",
    "urban_art.desc.fillna('', inplace = True)\n",
    "urban_art.desc = urban_art.desc.str.replace(\"'\", \"`\")\n",
    "\n",
    "#Print the urban_art descriptions again\n",
    "print(urban_art.desc)"
   ]
  },
  {
   "cell_type": "markdown",
   "metadata": {},
   "source": [
    "## A map of downtown art"
   ]
  },
  {
   "cell_type": "code",
   "execution_count": null,
   "metadata": {},
   "outputs": [],
   "source": [
    "# Construct downtown map\n",
    "downtown_map = folium.Map(location = nashville, zoom_start = 15)\n",
    "folium.GeoJson(urban_polygon).add_to(downtown_map)\n",
    "\n",
    "# Create popups inside the loop you built to create the markers\n",
    "for row in urban_art.iterrows():\n",
    "    row_values = row[1] \n",
    "    location = [row_values['lat'], row_values['lng']]\n",
    "    popup = (str(row_values['title']) + ': ' + \n",
    "             str(row_values['desc'])).replace(\"'\", \"`\")\n",
    "    marker = folium.Marker(location = location, popup = popup)\n",
    "    marker.add_to(downtown_map)\n",
    "\n",
    "# Display the map.\n",
    "display(downtown_map)"
   ]
  },
  {
   "cell_type": "markdown",
   "metadata": {},
   "source": [
    "# Creating a choropleth building permit density in Nashville"
   ]
  },
  {
   "cell_type": "markdown",
   "metadata": {},
   "source": [
    "## Finding counts from a spatial join"
   ]
  },
  {
   "cell_type": "code",
   "execution_count": null,
   "metadata": {},
   "outputs": [],
   "source": [
    "from shapely.geometry import Point\n",
    "\n",
    "# Create a shapely Point from lat and lng\n",
    "permits['geometry'] = permits.apply(lambda x: Point((x.lng , x.lat)), axis = 1)\n",
    "\n",
    "# Build a GeoDataFrame: permits_geo\n",
    "permits_geo = gpd.GeoDataFrame(permits, crs = council_districts.crs, geometry = permits.geometry)\n",
    "\n",
    "# Spatial join of permits_geo and council_districts\n",
    "permits_by_district = gpd.sjoin(permits_geo, council_districts, op = 'within')\n",
    "print(permits_by_district.head(2))\n",
    "\n",
    "# Create permit_counts\n",
    "permit_counts = permits_by_district.groupby(['district']).size()\n",
    "print(permit_counts)"
   ]
  },
  {
   "cell_type": "markdown",
   "metadata": {},
   "source": [
    "## Council district areas and permit counts"
   ]
  },
  {
   "cell_type": "code",
   "execution_count": null,
   "metadata": {},
   "outputs": [],
   "source": [
    "# Create an area column in council_districts\n",
    "council_districts['area'] = council_districts.geometry.area\n",
    "print(council_districts.head(2))"
   ]
  },
  {
   "cell_type": "code",
   "execution_count": null,
   "metadata": {},
   "outputs": [],
   "source": [
    "# Convert permit_counts to a DataFrame\n",
    "permits_df = permit_counts.to_frame()\n",
    "print(permits_df.head(2))"
   ]
  },
  {
   "cell_type": "code",
   "execution_count": null,
   "metadata": {},
   "outputs": [],
   "source": [
    "# Reset index and column names\n",
    "permits_df.reset_index(inplace=True)\n",
    "permits_df.columns = ['district', 'bldg_permits']\n",
    "print(permits_df.head(2))"
   ]
  },
  {
   "cell_type": "code",
   "execution_count": null,
   "metadata": {},
   "outputs": [],
   "source": [
    "# Merge council_districts and permits_df: \n",
    "districts_and_permits = pd.merge(council_districts, permits_df, on = 'district')\n",
    "print(districts_and_permits.head(2))"
   ]
  },
  {
   "cell_type": "markdown",
   "metadata": {},
   "source": [
    "## Calculating a normalized metric"
   ]
  },
  {
   "cell_type": "code",
   "execution_count": null,
   "metadata": {},
   "outputs": [],
   "source": [
    "# Print the type of districts_and_permits\n",
    "print(type(districts_and_permits))\n",
    "\n",
    "# Create a permit_density column in districts_and_permits\n",
    "districts_and_permits['permit_density'] = districts_and_permits.apply(lambda row: row.bldg_permits / row.area, axis = 1)\n",
    "\n",
    "# Print the head of districts_and_permits\n",
    "print(districts_and_permits.head())\n",
    "\n"
   ]
  },
  {
   "cell_type": "markdown",
   "metadata": {},
   "source": [
    "## Geopandas choropleths"
   ]
  },
  {
   "cell_type": "code",
   "execution_count": null,
   "metadata": {},
   "outputs": [],
   "source": [
    "# Import packages\n",
    "import matplotlib.pyplot as plt \n",
    "import pandas as pd\n",
    "import geopandas as gpd"
   ]
  },
  {
   "cell_type": "code",
   "execution_count": null,
   "metadata": {},
   "outputs": [],
   "source": [
    "# Simple plot of building permit_density\n",
    "districts_and_permits.plot(column = 'permit_density', legend = True);\n",
    "plt.show();"
   ]
  },
  {
   "cell_type": "code",
   "execution_count": null,
   "metadata": {},
   "outputs": [],
   "source": [
    "# Polished choropleth of building permit_density \n",
    "districts_and_permits.plot(column = 'permit_density', cmap = 'BuGn', edgecolor = 'black', legend = True)\n",
    "plt.xlabel('longitude')\n",
    "plt.ylabel('latitude')\n",
    "plt.xticks(rotation = 'vertical')\n",
    "plt.title('2017 Building Project Density by Council District')\n",
    "plt.show();"
   ]
  },
  {
   "cell_type": "markdown",
   "metadata": {},
   "source": [
    "## Area in km squared, geometry in decimal degrees"
   ]
  },
  {
   "cell_type": "code",
   "execution_count": null,
   "metadata": {},
   "outputs": [],
   "source": [
    "# Change council_districts crs to epsg 3857\n",
    "council_districts = council_districts.to_crs(epsg = 3857)\n",
    "print(council_districts.crs)\n",
    "print(council_districts.head())\n",
    "\n",
    "# Create area in square km\n",
    "sqm_to_sqkm = 10**6\n",
    "council_districts['area'] = council_districts.geometry.area / sqm_to_sqkm\n",
    "\n",
    "# Change council_districts crs back to epsg 4326\n",
    "council_districts = council_districts.to_crs(epsg = 4326)\n",
    "print(council_districts.crs)\n",
    "print(council_districts.head())"
   ]
  },
  {
   "cell_type": "markdown",
   "metadata": {},
   "source": [
    "## Spatially joining and getting counts"
   ]
  },
  {
   "cell_type": "code",
   "execution_count": null,
   "metadata": {},
   "outputs": [],
   "source": [
    "# Create permits_geo\n",
    "permits_geo = gpd.GeoDataFrame(permits, crs = council_districts.crs, geometry = permits.geometry)\n",
    "\n",
    "# Spatially join permits_geo and council_districts\n",
    "permits_by_district = gpd.sjoin(permits_geo, council_districts, op = 'within')\n",
    "print(permits_by_district.head(2))\n",
    "\n",
    "# Count permits in each district\n",
    "permit_counts = permits_by_district.groupby('district').size()\n",
    "\n",
    "# Convert permit_counts to a df with 2 columns: district and bldg_permits\n",
    "counts_df = permit_counts.to_frame()\n",
    "counts_df = counts_df.reset_index()\n",
    "counts_df.columns = ['district', 'bldg_permits']\n",
    "print(counts_df.head(2))"
   ]
  },
  {
   "cell_type": "markdown",
   "metadata": {},
   "source": [
    "## Building a polished Geopandas choropleth"
   ]
  },
  {
   "cell_type": "code",
   "execution_count": null,
   "metadata": {},
   "outputs": [],
   "source": [
    "# Merge permits_by_district and counts_df\n",
    "districts_and_permits = pd.merge(permits_by_district, counts_df, on = 'district')\n",
    "\n",
    "# Create permit_density column\n",
    "districts_and_permits['permit_density'] = districts_and_permits.apply(lambda row: row.bldg_permits / row.area, axis = 1)\n",
    "print(districts_and_permits.head(2))\n",
    "\n",
    "# Create choropleth plot\n",
    "districts_and_permits.plot(column = 'permit_density', cmap = 'OrRd', edgecolor = 'black', legend = True)\n",
    "\n",
    "# Add axis labels and title\n",
    "plt.xlabel('longitude')\n",
    "plt.ylabel('latitude')\n",
    "plt.title('2017 Building Project Density by Council District')\n",
    "plt.show()"
   ]
  },
  {
   "cell_type": "markdown",
   "metadata": {},
   "source": [
    "## Folium choropleth"
   ]
  },
  {
   "cell_type": "code",
   "execution_count": null,
   "metadata": {},
   "outputs": [],
   "source": [
    "# Center point for Nashville\n",
    "nashville = [36.1636,-86.7823]\n",
    "\n",
    "# Create map\n",
    "m = folium.Map(location=nashville, zoom_start=10)"
   ]
  },
  {
   "cell_type": "code",
   "execution_count": null,
   "metadata": {},
   "outputs": [],
   "source": [
    "# Build choropleth\n",
    "m.choropleth(\n",
    "    geo_data=districts_and_permits,\n",
    "    name='geometry',\n",
    "    data=districts_and_permits,\n",
    "    columns=['district', 'permit_density'],\n",
    "    key_on='feature.properties.district',\n",
    "    fill_color='Reds',\n",
    "    fill_opacity=0.5,\n",
    "    line_opacity=1.0,\n",
    "    legend_name='2017 Permitted Building Projects per km squared'\n",
    ")"
   ]
  },
  {
   "cell_type": "code",
   "execution_count": null,
   "metadata": {},
   "outputs": [],
   "source": [
    "# Create LayerControl and add it to the map            \n",
    "folium.LayerControl().add_to(m)\n",
    "\n",
    "# Display the map\n",
    "display(m)    "
   ]
  },
  {
   "cell_type": "markdown",
   "metadata": {},
   "source": [
    "## Folium choropleth with markers and popups"
   ]
  },
  {
   "cell_type": "code",
   "execution_count": null,
   "metadata": {},
   "outputs": [],
   "source": [
    "# Create center column for the centroid of each district\n",
    "districts_and_permits['center'] = districts_and_permits.geometry.centroid\n",
    "\n",
    "# Build markers and popups\n",
    "for row in districts_and_permits.iterrows():\n",
    "    row_values = row[1]\n",
    "    center_point = row_values['center']\n",
    "    location = [center_point.y, center_point.x]\n",
    "    popup = ('Council District: ' + str(row_values['district']) + \n",
    "             ';  ' + 'permits issued: ' + str(row_values['bldg_permits']))\n",
    "    marker = folium.Marker(location = location, popup = popup)\n",
    "    marker.add_to(m)\n",
    "    \n",
    "# Display the map\n",
    "display(m)"
   ]
  },
  {
   "cell_type": "code",
   "execution_count": null,
   "metadata": {},
   "outputs": [],
   "source": []
  }
 ],
 "metadata": {
  "kernelspec": {
   "display_name": "Python 3",
   "language": "python",
   "name": "python3"
  },
  "language_info": {
   "codemirror_mode": {
    "name": "ipython",
    "version": 3
   },
   "file_extension": ".py",
   "mimetype": "text/x-python",
   "name": "python",
   "nbconvert_exporter": "python",
   "pygments_lexer": "ipython3",
   "version": "3.7.6"
  },
  "toc": {
   "base_numbering": 1,
   "nav_menu": {},
   "number_sections": true,
   "sideBar": true,
   "skip_h1_title": false,
   "title_cell": "Table of Contents",
   "title_sidebar": "Contents",
   "toc_cell": true,
   "toc_position": {},
   "toc_section_display": true,
   "toc_window_display": false
  }
 },
 "nbformat": 4,
 "nbformat_minor": 4
}
